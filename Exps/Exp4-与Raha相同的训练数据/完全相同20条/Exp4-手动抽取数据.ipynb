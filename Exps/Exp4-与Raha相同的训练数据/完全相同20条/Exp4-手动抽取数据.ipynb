{
 "cells": [
  {
   "cell_type": "markdown",
   "metadata": {},
   "source": [
    "把需要修改的数据置空，用GReat补全"
   ]
  },
  {
   "cell_type": "code",
   "execution_count": 15,
   "metadata": {},
   "outputs": [],
   "source": [
    "import numpy as np\n",
    "import pandas as pd\n",
    "import logging\n",
    "from sklearn import datasets\n",
    "from be_great_v import GReaT\n",
    "import matplotlib.pyplot as plt\n",
    "import warnings\n",
    "warnings.filterwarnings('ignore')\n",
    "import torch"
   ]
  },
  {
   "cell_type": "markdown",
   "metadata": {},
   "source": [
    "## 获取与Raha相同的训练数据\n",
    "手动输入raha输出的`d.labeled_tuples`给`raha_labled_tuples`，自动处理获得raha同款训练数据"
   ]
  },
  {
   "cell_type": "code",
   "execution_count": 16,
   "metadata": {},
   "outputs": [
    {
     "name": "stdout",
     "output_type": "stream",
     "text": [
      "raha用了这些数据：[1153, 1340, 473, 773, 716, 1655, 430, 1192, 1145, 1026, 1470, 2052, 2152, 733, 39, 793, 1850, 1720, 522, 1789], 共计20行\n"
     ]
    }
   ],
   "source": [
    "raha_labled_tuples = {1153: 1, 1340: 1, 473: 1, 773: 1, 716: 1, 1655: 1, 430: 1, 1192: 1, 1145: 1, 1026: 1, 1470: 1, 2052: 1, 2152: 1, 733: 1, 39: 1, 793: 1, 1850: 1, 1720: 1, 522: 1, 1789: 1}\n",
    "raha_labled_index = list( raha_labled_tuples.keys() )\n",
    "print(f\"raha用了这些数据：{raha_labled_index}, 共计{len(raha_labled_index)}行\")"
   ]
  },
  {
   "cell_type": "code",
   "execution_count": 17,
   "metadata": {},
   "outputs": [
    {
     "data": {
      "text/html": [
       "<div>\n",
       "<style scoped>\n",
       "    .dataframe tbody tr th:only-of-type {\n",
       "        vertical-align: middle;\n",
       "    }\n",
       "\n",
       "    .dataframe tbody tr th {\n",
       "        vertical-align: top;\n",
       "    }\n",
       "\n",
       "    .dataframe thead th {\n",
       "        text-align: right;\n",
       "    }\n",
       "</style>\n",
       "<table border=\"1\" class=\"dataframe\">\n",
       "  <thead>\n",
       "    <tr style=\"text-align: right;\">\n",
       "      <th></th>\n",
       "      <th>tuple_id</th>\n",
       "      <th>src</th>\n",
       "      <th>flight</th>\n",
       "      <th>sched_dep_time</th>\n",
       "      <th>act_dep_time</th>\n",
       "      <th>sched_arr_time</th>\n",
       "      <th>act_arr_time</th>\n",
       "    </tr>\n",
       "  </thead>\n",
       "  <tbody>\n",
       "    <tr>\n",
       "      <th>1153</th>\n",
       "      <td>1154</td>\n",
       "      <td>foxbusiness</td>\n",
       "      <td>UA-37-EDI-EWR</td>\n",
       "      <td>9:05 a.m.</td>\n",
       "      <td>8:52 a.m.</td>\n",
       "      <td>11:53 a.m.</td>\n",
       "      <td>12:09 p.m.</td>\n",
       "    </tr>\n",
       "    <tr>\n",
       "      <th>1340</th>\n",
       "      <td>1341</td>\n",
       "      <td>orbitz</td>\n",
       "      <td>UA-3515-IAD-MSP</td>\n",
       "      <td>8:15 a.m.</td>\n",
       "      <td>8:12 a.m.</td>\n",
       "      <td>10:06 a.m.</td>\n",
       "      <td>9:56 a.m.</td>\n",
       "    </tr>\n",
       "    <tr>\n",
       "      <th>473</th>\n",
       "      <td>474</td>\n",
       "      <td>flightview</td>\n",
       "      <td>UA-2945-PHL-CLT</td>\n",
       "      <td>12:00 a.m.</td>\n",
       "      <td>3:11 a.m.</td>\n",
       "      <td>1:45 p.m.</td>\n",
       "      <td>1:15 p.m.</td>\n",
       "    </tr>\n",
       "    <tr>\n",
       "      <th>773</th>\n",
       "      <td>774</td>\n",
       "      <td>flightexplorer</td>\n",
       "      <td>AA-2312-DFW-DTW</td>\n",
       "      <td>8:25 p.m.</td>\n",
       "      <td>8:25 p.m.</td>\n",
       "      <td>11:50 p.m.</td>\n",
       "      <td>11:50 p.m.</td>\n",
       "    </tr>\n",
       "    <tr>\n",
       "      <th>716</th>\n",
       "      <td>717</td>\n",
       "      <td>panynj</td>\n",
       "      <td>AA-3979-CVG-ORD</td>\n",
       "      <td>7:30 a.m.</td>\n",
       "      <td>8:04 a.m.</td>\n",
       "      <td>8:00 a.m.</td>\n",
       "      <td>8:06 a.m.</td>\n",
       "    </tr>\n",
       "    <tr>\n",
       "      <th>1655</th>\n",
       "      <td>1656</td>\n",
       "      <td>ord</td>\n",
       "      <td>UA-828-SFO-ORD</td>\n",
       "      <td>11:08 p.m.</td>\n",
       "      <td>11:08 p.m.</td>\n",
       "      <td>5:11 a.m.</td>\n",
       "      <td>5:11 a.m.</td>\n",
       "    </tr>\n",
       "    <tr>\n",
       "      <th>430</th>\n",
       "      <td>431</td>\n",
       "      <td>airtravelcenter</td>\n",
       "      <td>UA-3099-PHX-PHL</td>\n",
       "      <td>11:55 a.m.</td>\n",
       "      <td>11:55 a.m.</td>\n",
       "      <td>6:17 p.m.</td>\n",
       "      <td>5:38 p.m.</td>\n",
       "    </tr>\n",
       "    <tr>\n",
       "      <th>1192</th>\n",
       "      <td>1193</td>\n",
       "      <td>usatoday</td>\n",
       "      <td>CO-1694-LAX-IAH</td>\n",
       "      <td>7:15 p.m.</td>\n",
       "      <td>7:15 p.m.</td>\n",
       "      <td>12:21 a.m.</td>\n",
       "      <td>12:21 a.m.</td>\n",
       "    </tr>\n",
       "    <tr>\n",
       "      <th>1145</th>\n",
       "      <td>1146</td>\n",
       "      <td>foxbusiness</td>\n",
       "      <td>UA-2708-EWR-CLT</td>\n",
       "      <td>2:55 p.m.</td>\n",
       "      <td>2:55 p.m.</td>\n",
       "      <td>4:53 p.m.</td>\n",
       "      <td>4:44 p.m.</td>\n",
       "    </tr>\n",
       "    <tr>\n",
       "      <th>1026</th>\n",
       "      <td>1027</td>\n",
       "      <td>travelocity</td>\n",
       "      <td>UA-843-LAX-ORD</td>\n",
       "      <td>1:55 p.m.</td>\n",
       "      <td>2:10 p.m.</td>\n",
       "      <td>7:53 p.m.</td>\n",
       "      <td>7:58 p.m.</td>\n",
       "    </tr>\n",
       "    <tr>\n",
       "      <th>1470</th>\n",
       "      <td>1471</td>\n",
       "      <td>ifly</td>\n",
       "      <td>AA-3468-CVG-MIA</td>\n",
       "      <td>7:00 a.m.</td>\n",
       "      <td>7:25 a.m.</td>\n",
       "      <td>9:55 a.m.</td>\n",
       "      <td>9:45 a.m.</td>\n",
       "    </tr>\n",
       "    <tr>\n",
       "      <th>2052</th>\n",
       "      <td>2053</td>\n",
       "      <td>businesstravellogue</td>\n",
       "      <td>AA-518-MIA-JFK</td>\n",
       "      <td>6:40 a.m.</td>\n",
       "      <td>6:54 a.m.</td>\n",
       "      <td>9:25 a.m.</td>\n",
       "      <td>9:28 a.m.</td>\n",
       "    </tr>\n",
       "    <tr>\n",
       "      <th>2152</th>\n",
       "      <td>2153</td>\n",
       "      <td>den</td>\n",
       "      <td>AA-3823-LAX-DEN</td>\n",
       "      <td>9:00 p.m.</td>\n",
       "      <td>9:00 p.m.</td>\n",
       "      <td>12:15 a.m.</td>\n",
       "      <td>12:15 a.m.</td>\n",
       "    </tr>\n",
       "    <tr>\n",
       "      <th>733</th>\n",
       "      <td>734</td>\n",
       "      <td>flightexplorer</td>\n",
       "      <td>UA-3925-IAD-ORF</td>\n",
       "      <td>8:41 a.m.</td>\n",
       "      <td>8:42 a.m.</td>\n",
       "      <td>9:54 a.m.</td>\n",
       "      <td>9:43 a.m.</td>\n",
       "    </tr>\n",
       "    <tr>\n",
       "      <th>39</th>\n",
       "      <td>40</td>\n",
       "      <td>aa</td>\n",
       "      <td>AA-1917-JFK-MCO</td>\n",
       "      <td>2:55 p.m.</td>\n",
       "      <td>3:27 p.m.</td>\n",
       "      <td>5:55 p.m.</td>\n",
       "      <td>5:43 p.m.</td>\n",
       "    </tr>\n",
       "    <tr>\n",
       "      <th>793</th>\n",
       "      <td>794</td>\n",
       "      <td>mia</td>\n",
       "      <td>AA-1165-JFK-MIA</td>\n",
       "      <td>6:59 a.m.</td>\n",
       "      <td>7:22 a.m.</td>\n",
       "      <td>10:34 a.m.</td>\n",
       "      <td>10:04 a.m.</td>\n",
       "    </tr>\n",
       "    <tr>\n",
       "      <th>1850</th>\n",
       "      <td>1851</td>\n",
       "      <td>flylouisville</td>\n",
       "      <td>CO-50-CLE-EWR</td>\n",
       "      <td>2:55 p.m.</td>\n",
       "      <td>3:31 p.m.</td>\n",
       "      <td>4:49 p.m.</td>\n",
       "      <td>5:26 p.m.</td>\n",
       "    </tr>\n",
       "    <tr>\n",
       "      <th>1720</th>\n",
       "      <td>1721</td>\n",
       "      <td>wunderground</td>\n",
       "      <td>AA-3786-IAH-ORD</td>\n",
       "      <td>4:00 p.m.</td>\n",
       "      <td>4:12 p.m.</td>\n",
       "      <td>6:40 p.m.</td>\n",
       "      <td>6:15 p.m.</td>\n",
       "    </tr>\n",
       "    <tr>\n",
       "      <th>522</th>\n",
       "      <td>523</td>\n",
       "      <td>flightview</td>\n",
       "      <td>AA-415-BOS-ORD</td>\n",
       "      <td>8:35 a.m.</td>\n",
       "      <td>8:56 a.m.</td>\n",
       "      <td>10:40 a.m.</td>\n",
       "      <td>10:16 a.m.</td>\n",
       "    </tr>\n",
       "    <tr>\n",
       "      <th>1789</th>\n",
       "      <td>1790</td>\n",
       "      <td>flylouisville</td>\n",
       "      <td>AA-1279-DFW-PHX</td>\n",
       "      <td>1:00 p.m.</td>\n",
       "      <td>2:04 p.m.</td>\n",
       "      <td>2:35 p.m.</td>\n",
       "      <td>3:30 p.m.</td>\n",
       "    </tr>\n",
       "  </tbody>\n",
       "</table>\n",
       "</div>"
      ],
      "text/plain": [
       "      tuple_id                  src           flight sched_dep_time  \\\n",
       "1153      1154          foxbusiness    UA-37-EDI-EWR      9:05 a.m.   \n",
       "1340      1341               orbitz  UA-3515-IAD-MSP      8:15 a.m.   \n",
       "473        474           flightview  UA-2945-PHL-CLT     12:00 a.m.   \n",
       "773        774       flightexplorer  AA-2312-DFW-DTW      8:25 p.m.   \n",
       "716        717               panynj  AA-3979-CVG-ORD      7:30 a.m.   \n",
       "1655      1656                  ord   UA-828-SFO-ORD     11:08 p.m.   \n",
       "430        431      airtravelcenter  UA-3099-PHX-PHL     11:55 a.m.   \n",
       "1192      1193             usatoday  CO-1694-LAX-IAH      7:15 p.m.   \n",
       "1145      1146          foxbusiness  UA-2708-EWR-CLT      2:55 p.m.   \n",
       "1026      1027          travelocity   UA-843-LAX-ORD      1:55 p.m.   \n",
       "1470      1471                 ifly  AA-3468-CVG-MIA      7:00 a.m.   \n",
       "2052      2053  businesstravellogue   AA-518-MIA-JFK      6:40 a.m.   \n",
       "2152      2153                  den  AA-3823-LAX-DEN      9:00 p.m.   \n",
       "733        734       flightexplorer  UA-3925-IAD-ORF      8:41 a.m.   \n",
       "39          40                   aa  AA-1917-JFK-MCO      2:55 p.m.   \n",
       "793        794                  mia  AA-1165-JFK-MIA      6:59 a.m.   \n",
       "1850      1851        flylouisville    CO-50-CLE-EWR      2:55 p.m.   \n",
       "1720      1721         wunderground  AA-3786-IAH-ORD      4:00 p.m.   \n",
       "522        523           flightview   AA-415-BOS-ORD      8:35 a.m.   \n",
       "1789      1790        flylouisville  AA-1279-DFW-PHX      1:00 p.m.   \n",
       "\n",
       "     act_dep_time sched_arr_time act_arr_time  \n",
       "1153    8:52 a.m.     11:53 a.m.   12:09 p.m.  \n",
       "1340    8:12 a.m.     10:06 a.m.    9:56 a.m.  \n",
       "473     3:11 a.m.      1:45 p.m.    1:15 p.m.  \n",
       "773     8:25 p.m.     11:50 p.m.   11:50 p.m.  \n",
       "716     8:04 a.m.      8:00 a.m.    8:06 a.m.  \n",
       "1655   11:08 p.m.      5:11 a.m.    5:11 a.m.  \n",
       "430    11:55 a.m.      6:17 p.m.    5:38 p.m.  \n",
       "1192    7:15 p.m.     12:21 a.m.   12:21 a.m.  \n",
       "1145    2:55 p.m.      4:53 p.m.    4:44 p.m.  \n",
       "1026    2:10 p.m.      7:53 p.m.    7:58 p.m.  \n",
       "1470    7:25 a.m.      9:55 a.m.    9:45 a.m.  \n",
       "2052    6:54 a.m.      9:25 a.m.    9:28 a.m.  \n",
       "2152    9:00 p.m.     12:15 a.m.   12:15 a.m.  \n",
       "733     8:42 a.m.      9:54 a.m.    9:43 a.m.  \n",
       "39      3:27 p.m.      5:55 p.m.    5:43 p.m.  \n",
       "793     7:22 a.m.     10:34 a.m.   10:04 a.m.  \n",
       "1850    3:31 p.m.      4:49 p.m.    5:26 p.m.  \n",
       "1720    4:12 p.m.      6:40 p.m.    6:15 p.m.  \n",
       "522     8:56 a.m.     10:40 a.m.   10:16 a.m.  \n",
       "1789    2:04 p.m.      2:35 p.m.    3:30 p.m.  "
      ]
     },
     "execution_count": 17,
     "metadata": {},
     "output_type": "execute_result"
    }
   ],
   "source": [
    "df_label = pd.read_csv('raha/datasets/flights/clean.csv')\n",
    "df_label_sample = df_label.loc[raha_labled_index]\n",
    "df_label_sample"
   ]
  },
  {
   "cell_type": "markdown",
   "metadata": {},
   "source": [
    "## 训练Great"
   ]
  },
  {
   "cell_type": "code",
   "execution_count": 18,
   "metadata": {},
   "outputs": [
    {
     "name": "stderr",
     "output_type": "stream",
     "text": [
      "You're using a GPT2TokenizerFast tokenizer. Please note that with a fast tokenizer, using the `__call__` method is faster than using a method to encode the text followed by a call to the `pad` method to get a padded encoding.\n"
     ]
    },
    {
     "data": {
      "text/html": [
       "\n",
       "    <div>\n",
       "      \n",
       "      <progress value='1000' max='1000' style='width:300px; height:20px; vertical-align: middle;'></progress>\n",
       "      [1000/1000 00:45, Epoch 1000/1000]\n",
       "    </div>\n",
       "    <table border=\"1\" class=\"dataframe\">\n",
       "  <thead>\n",
       " <tr style=\"text-align: left;\">\n",
       "      <th>Step</th>\n",
       "      <th>Training Loss</th>\n",
       "    </tr>\n",
       "  </thead>\n",
       "  <tbody>\n",
       "    <tr>\n",
       "      <td>100</td>\n",
       "      <td>0.946000</td>\n",
       "    </tr>\n",
       "    <tr>\n",
       "      <td>200</td>\n",
       "      <td>0.411700</td>\n",
       "    </tr>\n",
       "    <tr>\n",
       "      <td>300</td>\n",
       "      <td>0.311400</td>\n",
       "    </tr>\n",
       "    <tr>\n",
       "      <td>400</td>\n",
       "      <td>0.258200</td>\n",
       "    </tr>\n",
       "    <tr>\n",
       "      <td>500</td>\n",
       "      <td>0.226300</td>\n",
       "    </tr>\n",
       "    <tr>\n",
       "      <td>600</td>\n",
       "      <td>0.207000</td>\n",
       "    </tr>\n",
       "    <tr>\n",
       "      <td>700</td>\n",
       "      <td>0.195800</td>\n",
       "    </tr>\n",
       "    <tr>\n",
       "      <td>800</td>\n",
       "      <td>0.188100</td>\n",
       "    </tr>\n",
       "    <tr>\n",
       "      <td>900</td>\n",
       "      <td>0.183100</td>\n",
       "    </tr>\n",
       "    <tr>\n",
       "      <td>1000</td>\n",
       "      <td>0.180000</td>\n",
       "    </tr>\n",
       "  </tbody>\n",
       "</table><p>"
      ],
      "text/plain": [
       "<IPython.core.display.HTML object>"
      ]
     },
     "metadata": {},
     "output_type": "display_data"
    },
    {
     "name": "stderr",
     "output_type": "stream",
     "text": [
      "Checkpoint destination directory exp4/checkpoint-500 already exists and is non-empty.Saving will proceed but saved results may be invalid.\n",
      "Checkpoint destination directory exp4/checkpoint-1000 already exists and is non-empty.Saving will proceed but saved results may be invalid.\n"
     ]
    }
   ],
   "source": [
    "model = GReaT(llm='distilgpt2',\n",
    "              batch_size=32,\n",
    "              epochs=1000,\n",
    "              experiment_dir='exp4',\n",
    "              logging_steps = 100,\n",
    "              )\n",
    "trainer = model.fit(df_label_sample)"
   ]
  },
  {
   "cell_type": "code",
   "execution_count": 19,
   "metadata": {},
   "outputs": [
    {
     "name": "stdout",
     "output_type": "stream",
     "text": [
      "total 313M\n",
      "drwxr-xr-x 2 root root 4.0K Dec 27 06:14 checkpoint-1000\n",
      "drwxr-xr-x 2 root root 4.0K Dec 27 06:14 checkpoint-500\n",
      "-rw-r--r-- 1 root root  741 Dec 27 06:57 config.json\n",
      "-rw-r--r-- 1 root root 313M Dec 27 06:57 model.pt\n"
     ]
    },
    {
     "name": "stderr",
     "output_type": "stream",
     "text": [
      "huggingface/tokenizers: The current process just got forked, after parallelism has already been used. Disabling parallelism to avoid deadlocks...\n",
      "To disable this warning, you can either:\n",
      "\t- Avoid using `tokenizers` before the fork if possible\n",
      "\t- Explicitly set the environment variable TOKENIZERS_PARALLELISM=(true | false)\n"
     ]
    }
   ],
   "source": [
    "model.save('exp4')\n",
    "!ls -lh exp4"
   ]
  },
  {
   "cell_type": "markdown",
   "metadata": {},
   "source": [
    "## 扣除错误数据\n",
    "由于GReat不具有Error Detection 的能力，因此这里*对照dirty data与clean data*，扣除错误的数据单元"
   ]
  },
  {
   "cell_type": "code",
   "execution_count": 20,
   "metadata": {},
   "outputs": [],
   "source": [
    "\n",
    "df_manual_error_detection = pd.read_csv('raha/datasets/flights/dirty.csv')\n",
    "for i in range(len(df_label)):\n",
    "    for j in range(len(df_label.columns)):\n",
    "        if df_label.iloc[i, j] != df_manual_error_detection.iloc[i, j]:\n",
    "            df_manual_error_detection.iloc[i, j] = np.nan\n",
    "# print(df_manual_error_detection.iloc[1,6])"
   ]
  },
  {
   "cell_type": "markdown",
   "metadata": {},
   "source": [
    "## 补全"
   ]
  },
  {
   "cell_type": "code",
   "execution_count": 21,
   "metadata": {},
   "outputs": [
    {
     "name": "stderr",
     "output_type": "stream",
     "text": [
      "100%|██████████| 2376/2376 [02:31<00:00, 15.66it/s]\n"
     ]
    }
   ],
   "source": [
    "# dirty_data = pd.read_csv('raha/datasets/flights/dirty.csv')\n",
    "dirty_data = df_manual_error_detection\n",
    "imputed_data = model.impute(dirty_data, temperature=0.1,k=1, device = 'cuda:0') # 默认的\n",
    "imputed_data.to_csv('1227_flights_imputed_data.csv', index=False)"
   ]
  },
  {
   "cell_type": "markdown",
   "metadata": {},
   "source": [
    "## 性能评测"
   ]
  },
  {
   "cell_type": "code",
   "execution_count": 22,
   "metadata": {},
   "outputs": [
    {
     "name": "stderr",
     "output_type": "stream",
     "text": [
      "WARNING:root:补全后的结果丢失数据0条，dirty中有2376条数据，补全后为2376\n"
     ]
    },
    {
     "name": "stdout",
     "output_type": "stream",
     "text": [
      "ave: 0.11016260162601627, 1.0\n"
     ]
    }
   ],
   "source": [
    "from eva_metrics import calculate_precision_recall\n",
    "p,r = calculate_precision_recall(dirty_data,df_label,imputed_data)\n",
    "print(f\"ave: {p}, {r}\")"
   ]
  }
 ],
 "metadata": {
  "kernelspec": {
   "display_name": "lm",
   "language": "python",
   "name": "lm"
  }
 },
 "nbformat": 4,
 "nbformat_minor": 2
}
