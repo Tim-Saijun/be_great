{
 "cells": [
  {
   "cell_type": "code",
   "execution_count": 1,
   "metadata": {},
   "outputs": [
    {
     "name": "stdout",
     "output_type": "stream",
     "text": [
      "/root/data\n"
     ]
    }
   ],
   "source": [
    "!pwd"
   ]
  },
  {
   "cell_type": "code",
   "execution_count": null,
   "metadata": {},
   "outputs": [],
   "source": [
    "%pip install openai"
   ]
  },
  {
   "cell_type": "code",
   "execution_count": null,
   "metadata": {},
   "outputs": [],
   "source": [
    "from openai import OpenAI\n",
    "openai_config = {\n",
    "    \"base_url\" : \"http://********/v1/\",\n",
    "    \"token\"    : \"sk***********F16\"\n",
    "}\n",
    "import logging\n",
    "client = OpenAI(\n",
    "    # api_key=os.environ.get(\"OPENAI_API_KEY\"),\n",
    "    base_url = openai_config[\"base_url\"],\n",
    "    api_key = openai_config[\"token\"]\n",
    ")\n",
    "\n",
    "def openai_extract(meta_info,c_data):\n",
    "    json_format = str({\n",
    "  \"index\": \"\",\n",
    "  \"id\": \"\",\n",
    "  \"beer_name\": \"\",\n",
    "  \"style\": \"\",\n",
    "  \"ounces\": \"\",\n",
    "  \"abv\": \"\",\n",
    "  \"ibu\": \"\",\n",
    "  \"brewery_id\": \"\",\n",
    "  \"brewery_name\": \"\",\n",
    "  \"city\": \"\",\n",
    "  \"state\": \"\"\n",
    "})\n",
    "    p3 = f\"下面给出的是csv格式的数据，其中可能包含格式错误、拼写错误、依赖错误或者其它错误。你的任务是对其进行数据清理，以解决上述的问题，最后返回json格式：{json_format}。注意不要遗漏任何一条数据，要处理的数据如下：\\n \"\n",
    "    prompt = p3\n",
    "    content = prompt + c_data\n",
    "    try:\n",
    "        chat_completion = client.chat.completions.create(\n",
    "            messages=[\n",
    "                {\n",
    "                    \"role\": \"user\",\n",
    "                    \"content\": content,\n",
    "                }\n",
    "            ],\n",
    "            # model=\"gpt-3.5-turbo-1106\",\n",
    "            model=\"gpt-4-1106-preview\",\n",
    "            response_format={ \"type\": \"json_object\" },\n",
    "            temperature=0,\n",
    "            timeout=120,\n",
    "        )\n",
    "    except:\n",
    "        logging.warning(\"openai请求失败\")\n",
    "        return str({\"content\":\"\"}),0\n",
    "    tokens_used = chat_completion.usage.total_tokens if chat_completion.usage is not None else 0\n",
    "    return chat_completion.choices[0].message.content,tokens_used"
   ]
  }
 ],
 "metadata": {
  "kernelspec": {
   "display_name": "lm",
   "language": "python",
   "name": "lm"
  }
 },
 "nbformat": 4,
 "nbformat_minor": 2
}
